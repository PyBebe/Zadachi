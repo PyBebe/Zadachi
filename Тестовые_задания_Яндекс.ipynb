{
  "nbformat": 4,
  "nbformat_minor": 0,
  "metadata": {
    "colab": {
      "provenance": [],
      "authorship_tag": "ABX9TyO2TaQoXE/6nWOZyu2J/NbV"
    },
    "kernelspec": {
      "name": "python3",
      "display_name": "Python 3"
    },
    "language_info": {
      "name": "python"
    }
  },
  "cells": [
    {
      "cell_type": "markdown",
      "source": [
        "## Решите задачи, оцените их временную сложность O(n) и опишите работу алгоритма."
      ],
      "metadata": {
        "id": "EFzFZT6ZVld0"
      }
    },
    {
      "cell_type": "markdown",
      "source": [
        "### Задача 1\n",
        "\n",
        "Найти наибольший общий делитель всех чисел в заданном диапазоне [L, R]."
      ],
      "metadata": {
        "id": "jFKatbFcWI2d"
      }
    },
    {
      "cell_type": "code",
      "source": [
        "# Первичный вариант через алгоритм Евклида\n",
        "\n",
        "def find_gcd(numbers_range):\n",
        "    num_rng = range(numbers_range[0], numbers_range[-1] + 1)\n",
        "    gcd = num_rng[0]\n",
        "    for i in num_rng[1:]:\n",
        "        while gcd:\n",
        "            gcd, i = i % gcd, gcd\n",
        "        gcd = i\n",
        "        if gcd == 1:\n",
        "            break\n",
        "    return gcd\n",
        "\n",
        "find_gcd([12, 18])"
      ],
      "metadata": {
        "colab": {
          "base_uri": "https://localhost:8080/"
        },
        "id": "W9vOWSSUOWr4",
        "outputId": "3ae01d72-cd41-47f5-9b2e-5e36f11e4855"
      },
      "execution_count": null,
      "outputs": [
        {
          "output_type": "execute_result",
          "data": {
            "text/plain": [
              "1"
            ]
          },
          "metadata": {},
          "execution_count": 21
        }
      ]
    },
    {
      "cell_type": "code",
      "source": [
        "from math import gcd\n",
        "from functools import reduce\n",
        "\n",
        "def find_gcd(numbers_range):\n",
        "    \"\"\"\n",
        "    Функция принимает на вход список с первым и последним значениями диапазона чисел.\n",
        "    Возвращает НОД всех чисел в заданном диапазоне.\n",
        "\n",
        "    Использует алгоритм Евклида и функцию math.gcd,\n",
        "    применяя ее к каждому элементу числовой последовательности с помощью функции functools.reduce,\n",
        "    заменяя таким образом стандартный цикл.\n",
        "    \"\"\"\n",
        "    num_rng = range(numbers_range[0], numbers_range[-1] + 1)\n",
        "    return reduce(gcd, num_rng)\n",
        "\n",
        "find_gcd([12, 18])"
      ],
      "metadata": {
        "colab": {
          "base_uri": "https://localhost:8080/"
        },
        "id": "Y0Wd0IbmvU0w",
        "outputId": "c32673e5-0445-4218-e578-fcdc039b7be9"
      },
      "execution_count": null,
      "outputs": [
        {
          "output_type": "execute_result",
          "data": {
            "text/plain": [
              "1"
            ]
          },
          "metadata": {},
          "execution_count": 20
        }
      ]
    },
    {
      "cell_type": "markdown",
      "source": [
        "**Оценка временной сложности:**\n",
        "\n",
        "Функция gcd(a, b) выполняется за O(log min(a, b)).\n",
        "\n",
        "Применительно к диапазону n чисел это потребует n - 1 операций.\n",
        "\n",
        "Итоговая O(n * log m), где n = длина диапазона и m = максимальный элемент диапазона."
      ],
      "metadata": {
        "id": "DW3ES--V3ebj"
      }
    },
    {
      "cell_type": "markdown",
      "source": [
        "### Задача 2\n",
        "\n",
        "Даны два строковых представления чисел A и B. Нужно максимизировать A, заменив в нём любую цифру на цифру из B. Каждую цифру B можно использовать только один раз."
      ],
      "metadata": {
        "id": "I7re33SSWbCi"
      }
    },
    {
      "cell_type": "code",
      "source": [
        "def maximize_number(a, b):\n",
        "    \"\"\"\n",
        "    Функция принимает на вход два строковых представления чисел\n",
        "    и возвращает строковое представление максимизированного первого числа\n",
        "    за счет замены цифр первого числа на цифры из второго числа.\n",
        "\n",
        "    Поочередно сравнивает цифры первого числа с текущей максимальной цифрой из второго числа.\n",
        "    И проверяет на ошибку, если к данному этапу из второго числа удалены все цифры.\n",
        "\n",
        "    Если срабатывает ошибка, к максимизированному числу добавляет оставшиеся без изменений цифры первого числа\n",
        "    и завершает цикл.\n",
        "\n",
        "    Если ошибка не срабатывает и цифра первого числа меньше,\n",
        "    в максимизированное число записывает максимальную цифру из второго числа\n",
        "    и удаляет эту цифру из второго числа, чтобы исключить повторное использование.\n",
        "\n",
        "    Если цифра первого числа больше или равна,\n",
        "    в максимизированное число записывает цифру из первого числа без изменений.\n",
        "    \"\"\"\n",
        "    max_a = ''\n",
        "    for index, i in enumerate(a):\n",
        "        if not b:\n",
        "            max_a += a[index:]\n",
        "            break\n",
        "        elif i < max(b):\n",
        "            max_a += max(b)\n",
        "            b = b.replace(max(b), '', 1)\n",
        "        else:\n",
        "            max_a += i\n",
        "    return max_a\n",
        "\n",
        "print(maximize_number('45254656', '898777'))"
      ],
      "metadata": {
        "colab": {
          "base_uri": "https://localhost:8080/"
        },
        "id": "UlyT-gJZWvv6",
        "outputId": "166e3328-e1dc-490f-96a1-2188622010cc"
      },
      "execution_count": null,
      "outputs": [
        {
          "output_type": "stream",
          "name": "stdout",
          "text": [
            "98877756\n"
          ]
        }
      ]
    },
    {
      "cell_type": "code",
      "source": [
        "# Оптимизированный вариант\n",
        "\n",
        "def maximize_number(a, b):\n",
        "    sorted_b = sorted(b, reverse=True) # Сразу сортируем b по убыванию для итерации по нему\n",
        "    index = 0 # Указатель индекса в отсортированном b\n",
        "    max_a = ''\n",
        "    for i in a:\n",
        "        if index < len(sorted_b) and i < sorted_b[index]:\n",
        "            max_a += sorted_b[index]\n",
        "            index += 1\n",
        "        else:\n",
        "            max_a += i\n",
        "    return max_a\n",
        "\n",
        "print(maximize_number('45254656', '898777'))"
      ],
      "metadata": {
        "colab": {
          "base_uri": "https://localhost:8080/"
        },
        "id": "GgHxtgYC8DGQ",
        "outputId": "ed03cf37-9186-4762-a692-c21e2a80efc4"
      },
      "execution_count": null,
      "outputs": [
        {
          "output_type": "stream",
          "name": "stdout",
          "text": [
            "98877756\n"
          ]
        }
      ]
    },
    {
      "cell_type": "markdown",
      "source": [
        "**Оценка временной сложности:**\n",
        "\n",
        "В моем текущем решении в каждой итерации цикла обращаемся к max(b) и b.replace(max(b)), что дает O(m), где m = длина b и n = длина a.\n",
        "Итого O(n * m).\n",
        "\n",
        "Проанализировав, поняла, что можно улучшить решение, если изначально отсортировать b по убыванию и проходить по нему, используя указатель индекса.\n",
        "Тогда сократим O(n + m log m). Где n = длина a и sort(b) дает O(m log m).\n",
        "\n",
        "Первый вариант отражает мой текущий уровень: я уверено работаю со всеми базовыми типами данных, использую циклы, условия, list, dict, set comprehension, функции и стандартные библиотеки Python, алгоритмическое мышление, ООП и классы, умею обрабатывать ошибки и исключения.\n",
        "\n",
        "После решения всегда стараюсь оптимизировать свой код. Поняла, как можно было избежать множественного вызова max() и учту это в будущем."
      ],
      "metadata": {
        "id": "8mGgQBDTN-Lr"
      }
    },
    {
      "cell_type": "markdown",
      "source": [
        "### Задача 3\n",
        "\n",
        "Определить, будет ли побитовое ИЛИ чисел в заданном массиве чётным или нечётным числом."
      ],
      "metadata": {
        "id": "x-07eXZCv4hB"
      }
    },
    {
      "cell_type": "code",
      "source": [
        "from functools import reduce\n",
        "import random\n",
        "\n",
        "some_nums = [random.randint(1, 100) for i in range(10)]\n",
        "\n",
        "def find_bitwise_or(nums_list):\n",
        "    \"\"\"\n",
        "    Функция принимает на вход массив чисел\n",
        "    и возвращает строковое значение \"Even\" или \"Odd\",\n",
        "    если побитовое ИЛИ чисел массива четное или нечетное число соответственно.\n",
        "\n",
        "    Вычисляет побитовое ИЛИ чисел массива с помощью анонимной функции,\n",
        "    принимающей два аргумента\n",
        "    и возвращающей результат их побитового ИЛИ,\n",
        "    применяя ее последовательно к каждому элементу массива с помощью функции functools.reduce,\n",
        "    заменяя таким образом стандартный цикл.\n",
        "\n",
        "    Затем определяет, является ли полученное число четным/нечетным.\n",
        "    \"\"\"\n",
        "    result = reduce(lambda x, y: x | y, nums_list)\n",
        "    return 'Even' if result % 2 == 0 else 'Odd'\n",
        "\n",
        "print(some_nums)\n",
        "print(find_bitwise_or(some_nums))"
      ],
      "metadata": {
        "colab": {
          "base_uri": "https://localhost:8080/"
        },
        "id": "G7t8k6sIv688",
        "outputId": "2cc52933-7e40-4adf-cb6f-acba326776c2"
      },
      "execution_count": null,
      "outputs": [
        {
          "output_type": "stream",
          "name": "stdout",
          "text": [
            "[65, 32, 94, 49, 64, 98, 7, 72, 55, 72]\n",
            "Odd\n"
          ]
        }
      ]
    },
    {
      "cell_type": "markdown",
      "source": [
        "**Оценка временной сложности:**\n",
        "\n",
        "Операция вычисления побитового ИЛИ двух чисел константная и  О(1).\n",
        "\n",
        "Применяется к n-1 парам чисел (всего n чисел).\n",
        "\n",
        "Итого O(n), где n = кол-во чисел в массиве."
      ],
      "metadata": {
        "id": "r7jiiytn7Ofg"
      }
    },
    {
      "cell_type": "markdown",
      "source": [
        "### Задача 4\n",
        "\n",
        "Отсортировать числа в массиве согласно сумме их цифр."
      ],
      "metadata": {
        "id": "MYSGqoKg7UyI"
      }
    },
    {
      "cell_type": "code",
      "source": [
        "import random\n",
        "\n",
        "some_nums = [random.randint(1, 100) for i in range(10)]\n",
        "\n",
        "def sort_sum_nums(nums_list):\n",
        "    \"\"\"\n",
        "    Функция принимает на вход массив чисел\n",
        "    и возвращает отсортированный по возрастанию суммы цифр в числах массив.\n",
        "\n",
        "    Осуществляет сортировку массива по ключу с помощью анонимной функции,\n",
        "    которая принимает число и возвращающую сумму его цифр,\n",
        "    путем перевода числа в строку и перебора каждого ее элемента\n",
        "    с возвращением его к числовому типу.\n",
        "    \"\"\"\n",
        "    return sorted(nums_list, key=lambda x: sum(int(i) for i in str(x)))\n",
        "\n",
        "print(some_nums)\n",
        "print(sort_sum_nums(some_nums))"
      ],
      "metadata": {
        "colab": {
          "base_uri": "https://localhost:8080/"
        },
        "id": "6wU18jdv6tsG",
        "outputId": "a6249c81-d3b3-4d74-f819-22e4fe706764"
      },
      "execution_count": null,
      "outputs": [
        {
          "output_type": "stream",
          "name": "stdout",
          "text": [
            "[22, 36, 80, 17, 98, 59, 63, 14, 42, 7]\n",
            "[22, 14, 42, 7, 80, 17, 36, 63, 59, 98]\n"
          ]
        }
      ]
    },
    {
      "cell_type": "markdown",
      "source": [
        "**Оценка временной сложности:**\n",
        "\n",
        "Функция sorted() дает О(n log n).\n",
        "\n",
        "Функция str(x) - O(1) для чисел из 1-3 цифр.\n",
        "\n",
        "Функция sum() потребует O(d), где d = кол-во цифр, поэтому также займет О(1) при условии разбиения исходных чисел на 1-3 цифры.\n",
        "\n",
        "Итоговая О(n log n), где n = кол-во чисел в массиве."
      ],
      "metadata": {
        "id": "l66DWC_REe5x"
      }
    }
  ]
}