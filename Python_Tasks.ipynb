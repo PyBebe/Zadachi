{
  "nbformat": 4,
  "nbformat_minor": 0,
  "metadata": {
    "colab": {
      "provenance": []
    },
    "kernelspec": {
      "name": "python3",
      "display_name": "Python 3"
    },
    "language_info": {
      "name": "python"
    }
  },
  "cells": [
    {
      "cell_type": "markdown",
      "source": [
        "# Электронные часы\n",
        "\n",
        "Дано число n. С начала суток прошло n минут. Определите, сколько часов и минут будут показывать электронные часы в этот момент. Программа должна вывести два числа: количество часов (от 0 до 23) и количество минут (от 0 до 59). Учтите, что число n может быть больше, чем количество минут в сутках."
      ],
      "metadata": {
        "id": "zPYzsopiM6lo"
      }
    },
    {
      "cell_type": "code",
      "execution_count": null,
      "metadata": {
        "colab": {
          "base_uri": "https://localhost:8080/"
        },
        "id": "cl2twSM2M1uw",
        "outputId": "36fe4651-b4ac-4217-d80f-56594e1bbd6b"
      },
      "outputs": [
        {
          "output_type": "stream",
          "name": "stdout",
          "text": [
            "78945\n",
            "19 45\n"
          ]
        }
      ],
      "source": [
        "n = int(input())\n",
        "min_for_today = n % 1440\n",
        "\n",
        "print(min_for_today // 60, min_for_today % 60)"
      ]
    },
    {
      "cell_type": "markdown",
      "source": [
        "# Парты\n",
        "\n",
        "В школе решили набрать три новых математических класса. Так как занятия по математике у них проходят в одно и то же время, было решено выделить кабинет для каждого класса и купить в них новые парты. За каждой партой может сидеть не больше двух учеников. Известно количество учащихся в каждом из трёх классов. Сколько всего нужно закупить парт чтобы их хватило на всех учеников? Программа получает на вход три натуральных числа: количество учащихся в каждом из трех классов."
      ],
      "metadata": {
        "id": "XrMSEIcFV25W"
      }
    },
    {
      "cell_type": "code",
      "source": [
        "class_1 = int(input())\n",
        "class_2 = int(input())\n",
        "class_3 = int(input())\n",
        "\n",
        "print((class_1 // 2 + class_1 % 2) + (class_2 // 2 + class_2 % 2) + (class_3 // 2 + class_3 % 2))"
      ],
      "metadata": {
        "id": "g6BleLReNbsX",
        "colab": {
          "base_uri": "https://localhost:8080/"
        },
        "outputId": "cd41d670-1662-4d3f-b49f-3926616ac2db"
      },
      "execution_count": null,
      "outputs": [
        {
          "output_type": "stream",
          "name": "stdout",
          "text": [
            "23\n",
            "16\n",
            "27\n",
            "34\n"
          ]
        }
      ]
    },
    {
      "cell_type": "markdown",
      "source": [
        "# Шнурки\n",
        "\n",
        "Обувная фабрика собирается начать выпуск элитной модели ботинок. Дырочки для шнуровки будут расположены в два ряда, расстояние между рядами равно a, а расстояние между дырочками в ряду b. Количество дырочек в каждом ряду равно N. Шнуровка должна происходить элитным способом “наверх, по горизонтали в другой ряд, наверх, по горизонтали и т.д.” (см. рисунок). Кроме того, чтобы шнурки можно было завязать элитным бантиком, длина свободного конца шнурка должна быть l. Какова должна быть длина шнурка для этих ботинок?\n",
        "\n",
        "Программа получает на вход четыре натуральных числа a, b, l и N - именно в таком порядке - и должна вывести одно число - искомую длину шнурка.\n",
        "\n",
        "![shoelace.gif](data:image/gif;base64,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)"
      ],
      "metadata": {
        "id": "96UVg8I2aZnO"
      }
    },
    {
      "cell_type": "code",
      "source": [
        "a = int(input())\n",
        "b = int(input())\n",
        "l = int(input())\n",
        "N = int(input())\n",
        "\n",
        "print(a + (2 * b + 2 * a) * (N - 1) + 2 * l)"
      ],
      "metadata": {
        "colab": {
          "base_uri": "https://localhost:8080/"
        },
        "id": "shYkG9_-WBBO",
        "outputId": "ba9519ce-c72a-4e51-e5b3-8c52bba55893"
      },
      "execution_count": null,
      "outputs": [
        {
          "output_type": "stream",
          "name": "stdout",
          "text": [
            "1\n",
            "3\n",
            "6\n",
            "6\n",
            "53\n"
          ]
        }
      ]
    },
    {
      "cell_type": "markdown",
      "source": [
        "# Работа с Pandas и группировкой\n",
        "\n",
        "Найди, какой продукт в каком магазине дал максимальную суммарную выручку за весь период."
      ],
      "metadata": {
        "id": "6jef1UzXwhkw"
      }
    },
    {
      "cell_type": "code",
      "source": [
        "import pandas as pd\n",
        "\n",
        "sales = pd.DataFrame({\n",
        "    'product': ['apple', 'banana', 'apple', 'banana', 'apple'],\n",
        "    'store': [1, 1, 2, 2, 1],\n",
        "    'revenue': [100, 80, 120, 90, 110],\n",
        "    'date': ['2023-01-01', '2023-01-01', '2023-01-01', '2023-01-01', '2023-01-02']\n",
        "})\n",
        "\n",
        "sales.head()\n",
        "top_sales = sales.groupby(by=['product', 'store'])['revenue'].sum().sort_values(ascending=False).reset_index()\n",
        "top_sales.iloc[0]"
      ],
      "metadata": {
        "id": "cacJqR1dbJfw",
        "colab": {
          "base_uri": "https://localhost:8080/",
          "height": 178
        },
        "outputId": "f79c3a1a-dd9c-4456-d9c1-9a0a1e5ddae4"
      },
      "execution_count": null,
      "outputs": [
        {
          "output_type": "execute_result",
          "data": {
            "text/plain": [
              "product    apple\n",
              "store          1\n",
              "revenue      210\n",
              "Name: 0, dtype: object"
            ],
            "text/html": [
              "<div>\n",
              "<style scoped>\n",
              "    .dataframe tbody tr th:only-of-type {\n",
              "        vertical-align: middle;\n",
              "    }\n",
              "\n",
              "    .dataframe tbody tr th {\n",
              "        vertical-align: top;\n",
              "    }\n",
              "\n",
              "    .dataframe thead th {\n",
              "        text-align: right;\n",
              "    }\n",
              "</style>\n",
              "<table border=\"1\" class=\"dataframe\">\n",
              "  <thead>\n",
              "    <tr style=\"text-align: right;\">\n",
              "      <th></th>\n",
              "      <th>0</th>\n",
              "    </tr>\n",
              "  </thead>\n",
              "  <tbody>\n",
              "    <tr>\n",
              "      <th>product</th>\n",
              "      <td>apple</td>\n",
              "    </tr>\n",
              "    <tr>\n",
              "      <th>store</th>\n",
              "      <td>1</td>\n",
              "    </tr>\n",
              "    <tr>\n",
              "      <th>revenue</th>\n",
              "      <td>210</td>\n",
              "    </tr>\n",
              "  </tbody>\n",
              "</table>\n",
              "</div><br><label><b>dtype:</b> object</label>"
            ]
          },
          "metadata": {},
          "execution_count": 55
        }
      ]
    },
    {
      "cell_type": "markdown",
      "source": [
        "Найди долю выручки каждого продукта в общем обороте каждого магазина."
      ],
      "metadata": {
        "id": "LlPdVrOM00Bt"
      }
    },
    {
      "cell_type": "code",
      "source": [
        "sales.head()\n",
        "product_share = sales.groupby(by=['store', 'product'])['revenue'].sum().reset_index()\n",
        "product_share['share'] = round(product_share['revenue'] / product_share.groupby(by='store')['revenue'].transform('sum'), 3)\n",
        "product_share.head()"
      ],
      "metadata": {
        "colab": {
          "base_uri": "https://localhost:8080/",
          "height": 175
        },
        "id": "VlBtz_x_017K",
        "outputId": "ff01b36f-56a3-4458-939e-6c9cfdb2aff7"
      },
      "execution_count": null,
      "outputs": [
        {
          "output_type": "execute_result",
          "data": {
            "text/plain": [
              "   store product  revenue  share\n",
              "0      1   apple      210  0.724\n",
              "1      1  banana       80  0.276\n",
              "2      2   apple      120  0.571\n",
              "3      2  banana       90  0.429"
            ],
            "text/html": [
              "\n",
              "  <div id=\"df-426c2d9a-1de2-4211-ad2e-2da1650d9a42\" class=\"colab-df-container\">\n",
              "    <div>\n",
              "<style scoped>\n",
              "    .dataframe tbody tr th:only-of-type {\n",
              "        vertical-align: middle;\n",
              "    }\n",
              "\n",
              "    .dataframe tbody tr th {\n",
              "        vertical-align: top;\n",
              "    }\n",
              "\n",
              "    .dataframe thead th {\n",
              "        text-align: right;\n",
              "    }\n",
              "</style>\n",
              "<table border=\"1\" class=\"dataframe\">\n",
              "  <thead>\n",
              "    <tr style=\"text-align: right;\">\n",
              "      <th></th>\n",
              "      <th>store</th>\n",
              "      <th>product</th>\n",
              "      <th>revenue</th>\n",
              "      <th>share</th>\n",
              "    </tr>\n",
              "  </thead>\n",
              "  <tbody>\n",
              "    <tr>\n",
              "      <th>0</th>\n",
              "      <td>1</td>\n",
              "      <td>apple</td>\n",
              "      <td>210</td>\n",
              "      <td>0.724</td>\n",
              "    </tr>\n",
              "    <tr>\n",
              "      <th>1</th>\n",
              "      <td>1</td>\n",
              "      <td>banana</td>\n",
              "      <td>80</td>\n",
              "      <td>0.276</td>\n",
              "    </tr>\n",
              "    <tr>\n",
              "      <th>2</th>\n",
              "      <td>2</td>\n",
              "      <td>apple</td>\n",
              "      <td>120</td>\n",
              "      <td>0.571</td>\n",
              "    </tr>\n",
              "    <tr>\n",
              "      <th>3</th>\n",
              "      <td>2</td>\n",
              "      <td>banana</td>\n",
              "      <td>90</td>\n",
              "      <td>0.429</td>\n",
              "    </tr>\n",
              "  </tbody>\n",
              "</table>\n",
              "</div>\n",
              "    <div class=\"colab-df-buttons\">\n",
              "\n",
              "  <div class=\"colab-df-container\">\n",
              "    <button class=\"colab-df-convert\" onclick=\"convertToInteractive('df-426c2d9a-1de2-4211-ad2e-2da1650d9a42')\"\n",
              "            title=\"Convert this dataframe to an interactive table.\"\n",
              "            style=\"display:none;\">\n",
              "\n",
              "  <svg xmlns=\"http://www.w3.org/2000/svg\" height=\"24px\" viewBox=\"0 -960 960 960\">\n",
              "    <path d=\"M120-120v-720h720v720H120Zm60-500h600v-160H180v160Zm220 220h160v-160H400v160Zm0 220h160v-160H400v160ZM180-400h160v-160H180v160Zm440 0h160v-160H620v160ZM180-180h160v-160H180v160Zm440 0h160v-160H620v160Z\"/>\n",
              "  </svg>\n",
              "    </button>\n",
              "\n",
              "  <style>\n",
              "    .colab-df-container {\n",
              "      display:flex;\n",
              "      gap: 12px;\n",
              "    }\n",
              "\n",
              "    .colab-df-convert {\n",
              "      background-color: #E8F0FE;\n",
              "      border: none;\n",
              "      border-radius: 50%;\n",
              "      cursor: pointer;\n",
              "      display: none;\n",
              "      fill: #1967D2;\n",
              "      height: 32px;\n",
              "      padding: 0 0 0 0;\n",
              "      width: 32px;\n",
              "    }\n",
              "\n",
              "    .colab-df-convert:hover {\n",
              "      background-color: #E2EBFA;\n",
              "      box-shadow: 0px 1px 2px rgba(60, 64, 67, 0.3), 0px 1px 3px 1px rgba(60, 64, 67, 0.15);\n",
              "      fill: #174EA6;\n",
              "    }\n",
              "\n",
              "    .colab-df-buttons div {\n",
              "      margin-bottom: 4px;\n",
              "    }\n",
              "\n",
              "    [theme=dark] .colab-df-convert {\n",
              "      background-color: #3B4455;\n",
              "      fill: #D2E3FC;\n",
              "    }\n",
              "\n",
              "    [theme=dark] .colab-df-convert:hover {\n",
              "      background-color: #434B5C;\n",
              "      box-shadow: 0px 1px 3px 1px rgba(0, 0, 0, 0.15);\n",
              "      filter: drop-shadow(0px 1px 2px rgba(0, 0, 0, 0.3));\n",
              "      fill: #FFFFFF;\n",
              "    }\n",
              "  </style>\n",
              "\n",
              "    <script>\n",
              "      const buttonEl =\n",
              "        document.querySelector('#df-426c2d9a-1de2-4211-ad2e-2da1650d9a42 button.colab-df-convert');\n",
              "      buttonEl.style.display =\n",
              "        google.colab.kernel.accessAllowed ? 'block' : 'none';\n",
              "\n",
              "      async function convertToInteractive(key) {\n",
              "        const element = document.querySelector('#df-426c2d9a-1de2-4211-ad2e-2da1650d9a42');\n",
              "        const dataTable =\n",
              "          await google.colab.kernel.invokeFunction('convertToInteractive',\n",
              "                                                    [key], {});\n",
              "        if (!dataTable) return;\n",
              "\n",
              "        const docLinkHtml = 'Like what you see? Visit the ' +\n",
              "          '<a target=\"_blank\" href=https://colab.research.google.com/notebooks/data_table.ipynb>data table notebook</a>'\n",
              "          + ' to learn more about interactive tables.';\n",
              "        element.innerHTML = '';\n",
              "        dataTable['output_type'] = 'display_data';\n",
              "        await google.colab.output.renderOutput(dataTable, element);\n",
              "        const docLink = document.createElement('div');\n",
              "        docLink.innerHTML = docLinkHtml;\n",
              "        element.appendChild(docLink);\n",
              "      }\n",
              "    </script>\n",
              "  </div>\n",
              "\n",
              "\n",
              "    <div id=\"df-47c3b4a5-35a2-4d7c-b687-84a0050770e5\">\n",
              "      <button class=\"colab-df-quickchart\" onclick=\"quickchart('df-47c3b4a5-35a2-4d7c-b687-84a0050770e5')\"\n",
              "                title=\"Suggest charts\"\n",
              "                style=\"display:none;\">\n",
              "\n",
              "<svg xmlns=\"http://www.w3.org/2000/svg\" height=\"24px\"viewBox=\"0 0 24 24\"\n",
              "     width=\"24px\">\n",
              "    <g>\n",
              "        <path d=\"M19 3H5c-1.1 0-2 .9-2 2v14c0 1.1.9 2 2 2h14c1.1 0 2-.9 2-2V5c0-1.1-.9-2-2-2zM9 17H7v-7h2v7zm4 0h-2V7h2v10zm4 0h-2v-4h2v4z\"/>\n",
              "    </g>\n",
              "</svg>\n",
              "      </button>\n",
              "\n",
              "<style>\n",
              "  .colab-df-quickchart {\n",
              "      --bg-color: #E8F0FE;\n",
              "      --fill-color: #1967D2;\n",
              "      --hover-bg-color: #E2EBFA;\n",
              "      --hover-fill-color: #174EA6;\n",
              "      --disabled-fill-color: #AAA;\n",
              "      --disabled-bg-color: #DDD;\n",
              "  }\n",
              "\n",
              "  [theme=dark] .colab-df-quickchart {\n",
              "      --bg-color: #3B4455;\n",
              "      --fill-color: #D2E3FC;\n",
              "      --hover-bg-color: #434B5C;\n",
              "      --hover-fill-color: #FFFFFF;\n",
              "      --disabled-bg-color: #3B4455;\n",
              "      --disabled-fill-color: #666;\n",
              "  }\n",
              "\n",
              "  .colab-df-quickchart {\n",
              "    background-color: var(--bg-color);\n",
              "    border: none;\n",
              "    border-radius: 50%;\n",
              "    cursor: pointer;\n",
              "    display: none;\n",
              "    fill: var(--fill-color);\n",
              "    height: 32px;\n",
              "    padding: 0;\n",
              "    width: 32px;\n",
              "  }\n",
              "\n",
              "  .colab-df-quickchart:hover {\n",
              "    background-color: var(--hover-bg-color);\n",
              "    box-shadow: 0 1px 2px rgba(60, 64, 67, 0.3), 0 1px 3px 1px rgba(60, 64, 67, 0.15);\n",
              "    fill: var(--button-hover-fill-color);\n",
              "  }\n",
              "\n",
              "  .colab-df-quickchart-complete:disabled,\n",
              "  .colab-df-quickchart-complete:disabled:hover {\n",
              "    background-color: var(--disabled-bg-color);\n",
              "    fill: var(--disabled-fill-color);\n",
              "    box-shadow: none;\n",
              "  }\n",
              "\n",
              "  .colab-df-spinner {\n",
              "    border: 2px solid var(--fill-color);\n",
              "    border-color: transparent;\n",
              "    border-bottom-color: var(--fill-color);\n",
              "    animation:\n",
              "      spin 1s steps(1) infinite;\n",
              "  }\n",
              "\n",
              "  @keyframes spin {\n",
              "    0% {\n",
              "      border-color: transparent;\n",
              "      border-bottom-color: var(--fill-color);\n",
              "      border-left-color: var(--fill-color);\n",
              "    }\n",
              "    20% {\n",
              "      border-color: transparent;\n",
              "      border-left-color: var(--fill-color);\n",
              "      border-top-color: var(--fill-color);\n",
              "    }\n",
              "    30% {\n",
              "      border-color: transparent;\n",
              "      border-left-color: var(--fill-color);\n",
              "      border-top-color: var(--fill-color);\n",
              "      border-right-color: var(--fill-color);\n",
              "    }\n",
              "    40% {\n",
              "      border-color: transparent;\n",
              "      border-right-color: var(--fill-color);\n",
              "      border-top-color: var(--fill-color);\n",
              "    }\n",
              "    60% {\n",
              "      border-color: transparent;\n",
              "      border-right-color: var(--fill-color);\n",
              "    }\n",
              "    80% {\n",
              "      border-color: transparent;\n",
              "      border-right-color: var(--fill-color);\n",
              "      border-bottom-color: var(--fill-color);\n",
              "    }\n",
              "    90% {\n",
              "      border-color: transparent;\n",
              "      border-bottom-color: var(--fill-color);\n",
              "    }\n",
              "  }\n",
              "</style>\n",
              "\n",
              "      <script>\n",
              "        async function quickchart(key) {\n",
              "          const quickchartButtonEl =\n",
              "            document.querySelector('#' + key + ' button');\n",
              "          quickchartButtonEl.disabled = true;  // To prevent multiple clicks.\n",
              "          quickchartButtonEl.classList.add('colab-df-spinner');\n",
              "          try {\n",
              "            const charts = await google.colab.kernel.invokeFunction(\n",
              "                'suggestCharts', [key], {});\n",
              "          } catch (error) {\n",
              "            console.error('Error during call to suggestCharts:', error);\n",
              "          }\n",
              "          quickchartButtonEl.classList.remove('colab-df-spinner');\n",
              "          quickchartButtonEl.classList.add('colab-df-quickchart-complete');\n",
              "        }\n",
              "        (() => {\n",
              "          let quickchartButtonEl =\n",
              "            document.querySelector('#df-47c3b4a5-35a2-4d7c-b687-84a0050770e5 button');\n",
              "          quickchartButtonEl.style.display =\n",
              "            google.colab.kernel.accessAllowed ? 'block' : 'none';\n",
              "        })();\n",
              "      </script>\n",
              "    </div>\n",
              "\n",
              "    </div>\n",
              "  </div>\n"
            ],
            "application/vnd.google.colaboratory.intrinsic+json": {
              "type": "dataframe",
              "variable_name": "product_share",
              "summary": "{\n  \"name\": \"product_share\",\n  \"rows\": 4,\n  \"fields\": [\n    {\n      \"column\": \"store\",\n      \"properties\": {\n        \"dtype\": \"number\",\n        \"std\": 0,\n        \"min\": 1,\n        \"max\": 2,\n        \"num_unique_values\": 2,\n        \"samples\": [\n          2,\n          1\n        ],\n        \"semantic_type\": \"\",\n        \"description\": \"\"\n      }\n    },\n    {\n      \"column\": \"product\",\n      \"properties\": {\n        \"dtype\": \"string\",\n        \"num_unique_values\": 2,\n        \"samples\": [\n          \"banana\",\n          \"apple\"\n        ],\n        \"semantic_type\": \"\",\n        \"description\": \"\"\n      }\n    },\n    {\n      \"column\": \"revenue\",\n      \"properties\": {\n        \"dtype\": \"number\",\n        \"std\": 59,\n        \"min\": 80,\n        \"max\": 210,\n        \"num_unique_values\": 4,\n        \"samples\": [\n          80,\n          90\n        ],\n        \"semantic_type\": \"\",\n        \"description\": \"\"\n      }\n    },\n    {\n      \"column\": \"share\",\n      \"properties\": {\n        \"dtype\": \"number\",\n        \"std\": 0.19186279820051966,\n        \"min\": 0.276,\n        \"max\": 0.724,\n        \"num_unique_values\": 4,\n        \"samples\": [\n          0.276,\n          0.429\n        ],\n        \"semantic_type\": \"\",\n        \"description\": \"\"\n      }\n    }\n  ]\n}"
            }
          },
          "metadata": {},
          "execution_count": 62
        }
      ]
    }
  ]
}